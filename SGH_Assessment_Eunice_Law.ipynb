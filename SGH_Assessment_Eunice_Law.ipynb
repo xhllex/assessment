{
 "cells": [
  {
   "cell_type": "markdown",
   "metadata": {},
   "source": [
    "# Part 1: Data Management & Programming\n",
    "### This project presents the visualisations about malaria starting with the data sets from Github repo: https://github.com/rfordatascience/tidytuesday/tree/master/data/2018/2018-11-13."
   ]
  },
  {
   "cell_type": "code",
   "execution_count": 179,
   "metadata": {},
   "outputs": [],
   "source": [
    "# Import libraries\n",
    "import random\n",
    "import pandas as pd\n",
    "import matplotlib.pyplot as plt \n",
    "import seaborn as sns"
   ]
  },
  {
   "cell_type": "code",
   "execution_count": 180,
   "metadata": {},
   "outputs": [],
   "source": [
    "# Set random seed\n",
    "# random.seed(2024)\n",
    "\n",
    "# Import dataset\n",
    "path = \"...\"\n",
    "malaria_deaths = pd.read_csv(path + \"malaria_deaths.csv\")\n",
    "malaria_inc = pd.read_csv(path + \"malaria_inc.csv\")\n",
    "malaria_deaths_age = pd.read_csv(path + \"malaria_deaths_age.csv\", index_col=0)"
   ]
  },
  {
   "cell_type": "markdown",
   "metadata": {},
   "source": [
    "### Data Preparation"
   ]
  },
  {
   "cell_type": "code",
   "execution_count": 181,
   "metadata": {},
   "outputs": [],
   "source": [
    "\"\"\"\n",
    "Create a boxplot and histogram for specific columns for data preparation\n",
    "\n",
    "Parameters:\n",
    "- data: DataFrame\n",
    "- col: The column to create the plots\n",
    "- bins: Numbr of bins for the histogram\n",
    "\n",
    "\"\"\"\n",
    "def plot_box_and_hist(data, col, bins):\n",
    "    # Create a figure with side by side plots\n",
    "    fig, (ax_box, ax_hist) = plt.subplots(nrows=1, ncols=2, figsize=(12, 5))\n",
    "\n",
    "    # Create histogram\n",
    "    sns.histplot(data[col], bins=bins, ax=ax_hist)\n",
    "    ax_hist.set_title(f'Histogram for Number of {col}')\n",
    "\n",
    "    # Create boxplot\n",
    "    sns.boxplot(data[col], ax=ax_box)\n",
    "    ax_box.set_title(f'Boxplot for Number of {col}')\n",
    "\n",
    "    # Display plots\n",
    "    plt.tight_layout()\n",
    "    plt.show()\n"
   ]
  },
  {
   "cell_type": "markdown",
   "metadata": {},
   "source": [
    "##### Malaria Deaths"
   ]
  },
  {
   "cell_type": "code",
   "execution_count": null,
   "metadata": {},
   "outputs": [],
   "source": [
    "# Rename column \n",
    "malaria_deaths = malaria_deaths.rename(columns={\"Deaths - Malaria - Sex: Both - Age: Age-standardized (Rate) (per 100,000 people)\":\"Deaths\"})\n",
    "\n",
    "# Remove duplicates\n",
    "malaria_deaths.drop_duplicates()\n",
    "\n",
    "# Summary\n",
    "## Show information of the dataset\n",
    "malaria_deaths.info()\n",
    "\n",
    "## Show the statistics of the dataset\n",
    "malaria_deaths['Deaths'].describe()"
   ]
  },
  {
   "cell_type": "code",
   "execution_count": null,
   "metadata": {},
   "outputs": [],
   "source": [
    "# View the distribution of Malaria deaths dataset\n",
    "plot_box_and_hist(malaria_deaths, 'Deaths', 20)"
   ]
  },
  {
   "cell_type": "markdown",
   "metadata": {},
   "source": [
    "##### Malaria Incidents"
   ]
  },
  {
   "cell_type": "code",
   "execution_count": null,
   "metadata": {},
   "outputs": [],
   "source": [
    "# Rename column \n",
    "malaria_inc = malaria_inc.rename(columns={\"Incidence of malaria (per 1,000 population at risk) (per 1,000 population at risk)\":\"Incidences\"})\n",
    "\n",
    "# Remove duplicates\n",
    "malaria_inc.drop_duplicates()\n",
    "\n",
    "# Summary\n",
    "## Show information of the dataset\n",
    "malaria_inc.info()\n",
    "\n",
    "## Show the statistics of the dataset\n",
    "malaria_inc['Incidences'].describe()\n"
   ]
  },
  {
   "cell_type": "code",
   "execution_count": null,
   "metadata": {},
   "outputs": [],
   "source": [
    "# View the distribution of the Malaria incidences dataset\n",
    "plot_box_and_hist(malaria_inc, 'Incidences', bins=10)"
   ]
  },
  {
   "cell_type": "code",
   "execution_count": 186,
   "metadata": {},
   "outputs": [],
   "source": [
    "# Replace outliers with median values\n",
    "\n",
    "## Identify outliers\n",
    "# Calulate IQR\n",
    "Q1 = malaria_inc['Incidences'].quantile(0.25)\n",
    "Q3 = malaria_inc['Incidences'].quantile(0.75)\n",
    "IQR = Q3 - Q1\n",
    "\n",
    "## Calculate upper bound\n",
    "upper_bound = Q3 + 1.5 * IQR\n",
    "\n",
    "## Extract outliers\n",
    "outliers = malaria_inc[malaria_inc['Incidences'] > Q3 + 1.5 * IQR]\n",
    "\n",
    "## Get the entities of the outliers\n",
    "entity = outliers['Entity'].reset_index(drop=True)\n",
    "\n",
    "## Get median values of these entities\n",
    "stats = malaria_inc['Incidences'].groupby(malaria_inc['Entity']).describe().reset_index()\n",
    "median_values = stats[stats['Entity'].isin(entity)]\n",
    "\n",
    "# Replace outliers with median values\n",
    "malaria_inc.loc[(malaria_inc['Entity'] == 'Burkina Faso') & (malaria_inc['Year'] == 2000), 'Incidences'] = median_values.loc[(median_values['Entity'] == 'Burkina Faso'),'50%'].values[0]\n",
    "malaria_inc.loc[(malaria_inc['Entity'] == 'Ethiopia') & (malaria_inc['Year'] == 2000), 'Incidences'] = median_values.loc[(median_values['Entity'] == 'Ethiopia'),'50%'].values[0]\n",
    "malaria_inc.loc[(malaria_inc['Entity'] == 'Turkey') & (malaria_inc['Year'] == 2000), 'Incidences'] = median_values.loc[(median_values['Entity'] == 'Turkey'),'50%'].values[0]"
   ]
  },
  {
   "cell_type": "markdown",
   "metadata": {},
   "source": [
    "##### Malaria Deaths by Age groups"
   ]
  },
  {
   "cell_type": "code",
   "execution_count": null,
   "metadata": {},
   "outputs": [],
   "source": [
    "# Remove duplicates\n",
    "malaria_deaths_age.drop_duplicates()\n",
    "\n",
    "# Summary\n",
    "## Show information of the dataset\n",
    "malaria_deaths_age.info()\n",
    "\n",
    "## Show the statistics of the dataset\n",
    "malaria_deaths_age['deaths'].describe()"
   ]
  },
  {
   "cell_type": "markdown",
   "metadata": {},
   "source": [
    "##### Extract data by regions for further data exploratory analysis"
   ]
  },
  {
   "cell_type": "code",
   "execution_count": null,
   "metadata": {},
   "outputs": [],
   "source": [
    "# Extract data by regions\n",
    "filtered_malaria_deaths_age_regions = malaria_deaths_age[(malaria_deaths_age['code'].isna())].reset_index(drop=True)\n",
    "\n",
    "# Remove entities with income and SDI group\n",
    "filtered_malaria_deaths_age_regions = filtered_malaria_deaths_age_regions[~filtered_malaria_deaths_age_regions['entity'].str.contains('income|SDI', case=False, na=False)]\n",
    "\n",
    "# Show the statistics of the filtered dataset\n",
    "filtered_malaria_deaths_age_regions['deaths'].groupby(filtered_malaria_deaths_age_regions['entity']).describe()\n"
   ]
  },
  {
   "cell_type": "code",
   "execution_count": null,
   "metadata": {},
   "outputs": [],
   "source": [
    "# Group regions by continents \n",
    "# Create a function that assigns the region by continent\n",
    "def assign_continent(region):\n",
    "    \"\"\"\n",
    "    Categorise regions by continents\n",
    "\n",
    "    Parameters:\n",
    "    - region: represents each value in the entity\n",
    "\n",
    "    \"\"\"\n",
    "    \n",
    "    if 'Africa' in region:\n",
    "        return 'Africa'\n",
    "    elif 'Asia' in region:\n",
    "        return 'Asia'\n",
    "    elif 'America' in region:\n",
    "        return 'America'\n",
    "    elif 'Europe' in region:\n",
    "        return 'Europe'\n",
    "    else:\n",
    "        return region\n",
    "\n",
    "# Apply function and create a new column called 'continent'\n",
    "filtered_malaria_deaths_age_regions['continent'] = filtered_malaria_deaths_age_regions['entity'].apply(assign_continent)\n",
    "\n",
    "#  Select the continents\n",
    "selected_cont = ['Africa', 'Asia', 'America', 'Europe', 'Oceania']\n",
    "\n",
    "# Filter out data that contains the selected continents\n",
    "malaria_deaths_age_continents = filtered_malaria_deaths_age_regions[filtered_malaria_deaths_age_regions['continent'].isin(selected_cont)].reset_index(drop=True)\n",
    "malaria_deaths_age_continents\n"
   ]
  },
  {
   "cell_type": "markdown",
   "metadata": {},
   "source": [
    "# Part 2: Exploratory Data Analysis\n",
    "### In this part of the exploratory data analysis, I will only be analyzing the data of the entire world and by continent."
   ]
  },
  {
   "cell_type": "code",
   "execution_count": null,
   "metadata": {},
   "outputs": [],
   "source": [
    "# Display line charts of the worldly death rate and incidence rate across the years\n",
    "## Create a figure with side by side plots\n",
    "fig, axs = plt.subplots(1, 2, figsize=(12, 5))\n",
    "\n",
    "## Create a line plot to show the worldly death rate\n",
    "sns.lineplot(x='Year', y='Deaths', \n",
    "            data=malaria_deaths[malaria_deaths['Entity'] == 'World'], # Get 'World' data only from dataset\n",
    "            ax=axs[0],\n",
    "            color='red', # Set line plot to red\n",
    "            errorbar=None, \n",
    "            markers=True)\n",
    "\n",
    "## Set title\n",
    "axs[0].set_title('World Death rate from Malaria')\n",
    "## Set y axis label\n",
    "axs[0].set_ylabel('Deaths (per 100,000 people)')\n",
    "## Set the y axis limit starting at 0\n",
    "axs[0].set_ylim(bottom=0)\n",
    "\n",
    "## Create a line plot to show the worldly incidence rate\n",
    "sns.lineplot(x='Year', y='Incidences', \n",
    "            data=malaria_inc[malaria_inc['Entity'] == 'World'], # Get 'World' data only from dataset\n",
    "            ax=axs[1],\n",
    "            color='blue', # Set line plot to blue\n",
    "            errorbar=None, \n",
    "            markers=True)\n",
    "\n",
    "## Set title\n",
    "axs[1].set_title('Incidence rate from Malaria')\n",
    "## Set y axis label\n",
    "axs[1].set_ylabel('Incidences (per 1,000 population at risk)')\n",
    "## Set the y axis limit starting at 0\n",
    "axs[1].set_ylim(bottom=0)\n",
    "\n",
    "## Display plots\n",
    "plt.tight_layout()\n",
    "plt.show()"
   ]
  },
  {
   "cell_type": "code",
   "execution_count": null,
   "metadata": {},
   "outputs": [],
   "source": [
    "# Display line charts of the death rate by continents and age groups across the years \n",
    "# Create a plot\n",
    "line_plot = sns.catplot(x='continent', y='deaths',\n",
    "            data=malaria_deaths_age_continents,\n",
    "            kind='bar',\n",
    "            errorbar=None)\n",
    "## Set title\n",
    "plt.title('World Death Rate from Malaria by Continent')\n",
    "## Set y axis label\n",
    "plt.ylabel('Deaths (per 100,000 people)')\n",
    "## Display plot\n",
    "plt.show()"
   ]
  },
  {
   "cell_type": "code",
   "execution_count": null,
   "metadata": {},
   "outputs": [],
   "source": [
    "# Display line charts of the Africa's death rate across the years by age group\n",
    "# Create a plot\n",
    "death_age_plot = sns.relplot(x='year', y='deaths', data=malaria_deaths_age_continents[malaria_deaths_age_continents['continent'] == 'Africa'], \n",
    "            kind='line', \n",
    "            style='age_group', \n",
    "            hue='age_group',\n",
    "            errorbar=None, \n",
    "            dashes=False)\n",
    "## Set title\n",
    "plt.title(\"Africa's Death rate from Malaria by Age Groups\")\n",
    "## Set y axis label\n",
    "plt.ylabel('Deaths (per 100,000 people)')\n",
    "## Set the y axis limit starting at 0\n",
    "death_age_plot.ax.set_ylim(bottom=0)\n",
    "## Display plot\n",
    "plt.show()"
   ]
  }
 ],
 "metadata": {
  "kernelspec": {
   "display_name": "base",
   "language": "python",
   "name": "python3"
  },
  "language_info": {
   "codemirror_mode": {
    "name": "ipython",
    "version": 3
   },
   "file_extension": ".py",
   "mimetype": "text/x-python",
   "name": "python",
   "nbconvert_exporter": "python",
   "pygments_lexer": "ipython3",
   "version": "3.11.4"
  }
 },
 "nbformat": 4,
 "nbformat_minor": 2
}
